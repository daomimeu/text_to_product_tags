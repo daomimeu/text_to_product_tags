{
 "cells": [
  {
   "cell_type": "code",
   "execution_count": 22,
   "id": "3fc172dc",
   "metadata": {},
   "outputs": [],
   "source": [
    "import pipeline_funcs as fn\n",
    "import os\n",
    "\n",
    "import pandas as pd\n",
    "pd.options.mode.chained_assignment = None"
   ]
  },
  {
   "cell_type": "code",
   "execution_count": null,
   "id": "ca5a4097",
   "metadata": {},
   "outputs": [],
   "source": [
    "root_path = '..'\n",
    "yesterday = '2024-12-31' #if yesterday is later than snapshot_date, use snapshot_date\n",
    "last_executed_date = '2024-12-15' #check previous folder date\n",
    "snapshot_date = '20241231' #date to create table in seaocdm-data-hub.gcdm_snapshots.campaigns_YYYYMMDD\n",
    "\n",
    "bo_report = f'{root_path}/data/{yesterday}/All Campaign Summary.csv'\n",
    "\n",
    "campaign_name_mapper = f'{root_path}/lib/campaign_name_mapper.xlsx'\n",
    "text_content_mapper = f'{root_path}/lib/text_content_mapper.xlsx'\n",
    "\n",
    "text_folder_path = f'{root_path}/data/{yesterday}/text_extract'\n",
    "\n",
    "out_path = f'{root_path}/output/{yesterday}'\n",
    "out_path_data_hub = f'{out_path}/Campaign Table Update - Data Hub.parquet'\n",
    "out_path_data_ = f'{out_path}/Campaign Table Update - Data .parquet'\n",
    "out_path_preview = f'{out_path}/Preview.xlsx'\n",
    "out_path_data_all_models = f'{out_path}/Campaign Table Update - All Models.parquet'\n",
    "\n",
    "service_cred_path = f'../../../docs/api_key/xxx.json'\n",
    "client_secret_path = f'../../../docs/api_key/xxx.json'"
   ]
  },
  {
   "cell_type": "code",
   "execution_count": 11,
   "id": "122078d9",
   "metadata": {},
   "outputs": [],
   "source": [
    "for folder_path in [text_folder_path, out_path]:\n",
    "    if not os.path.exists(folder_path):\n",
    "        os.makedirs(folder_path)"
   ]
  },
  {
   "cell_type": "code",
   "execution_count": 24,
   "id": "a8868755",
   "metadata": {},
   "outputs": [],
   "source": [
    "df = fn.clean_bo_report(file_path=bo_report)"
   ]
  },
  {
   "cell_type": "code",
   "execution_count": 25,
   "id": "0cbdaaef",
   "metadata": {
    "scrolled": true
   },
   "outputs": [],
   "source": [
    "df = fn.model_tag_campaign_name(df=df, mapper_path=campaign_name_mapper)"
   ]
  },
  {
   "cell_type": "code",
   "execution_count": 26,
   "id": "44bdc5a0",
   "metadata": {},
   "outputs": [
    {
     "name": "stdout",
     "output_type": "stream",
     "text": [
      "Campaign nz/0000202443 not found in creative-edm-text!\n",
      "Campaign sg/0000202833 not found in creative-edm-text!\n"
     ]
    }
   ],
   "source": [
    "df = fn.model_tag_extracted_text(\n",
    "    df=df,\n",
    "    mapper_path=text_content_mapper,\n",
    "    text_folder_path=text_folder_path,\n",
    "    last_executed_date=last_executed_date,\n",
    "    service_cred_path=service_cred_path\n",
    ")\n"
   ]
  },
  {
   "cell_type": "code",
   "execution_count": null,
   "id": "4edd75b0",
   "metadata": {
    "scrolled": true
   },
   "outputs": [],
   "source": [
    "fn.export_results(\n",
    "    df=df,\n",
    "    out_path_data_hub=out_path_data_hub,\n",
    "    out_path_data=out_path_data_,\n",
    "    out_path_preview=out_path_preview,\n",
    "    out_path_data_all_models=out_path_data_all_models\n",
    ")"
   ]
  },
  {
   "cell_type": "markdown",
   "id": "5188ce27",
   "metadata": {},
   "source": [
    "Next step is optional, please comment out IMMEDIATELY after run"
   ]
  },
  {
   "cell_type": "code",
   "execution_count": null,
   "id": "4d12340e",
   "metadata": {},
   "outputs": [],
   "source": [
    "fn.manual_revision(\n",
    "    preview=out_path_preview,\n",
    "    out_path_data_hub=out_path_data_hub,\n",
    "\n",
    "    out_path_data_=out_path_data_,\n",
    "    out_path_data_all_models=out_path_data_all_models\n",
    ")"
   ]
  },
  {
   "cell_type": "code",
   "execution_count": null,
   "id": "829682bb",
   "metadata": {},
   "outputs": [],
   "source": [
    "fn.update_bq_table(snapshot_date, out_path_data_hub, out_path_data_, out_path_data_all_models, client_secret_path, run_list=[1,2,3,4]) #run_list=[1,2,3,4,5] #Query 5 should be run when updating campaign dashboard"
   ]
  }
 ],
 "metadata": {
  "kernelspec": {
   "display_name": "base",
   "language": "python",
   "name": "python3"
  },
  "language_info": {
   "codemirror_mode": {
    "name": "ipython",
    "version": 3
   },
   "file_extension": ".py",
   "mimetype": "text/x-python",
   "name": "python",
   "nbconvert_exporter": "python",
   "pygments_lexer": "ipython3",
   "version": "3.11.7"
  }
 },
 "nbformat": 4,
 "nbformat_minor": 5
}
